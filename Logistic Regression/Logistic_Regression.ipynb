{
  "nbformat": 4,
  "nbformat_minor": 0,
  "metadata": {
    "kernelspec": {
      "display_name": "Python 3",
      "language": "python",
      "name": "python3"
    },
    "language_info": {
      "codemirror_mode": {
        "name": "ipython",
        "version": 3
      },
      "file_extension": ".py",
      "mimetype": "text/x-python",
      "name": "python",
      "nbconvert_exporter": "python",
      "pygments_lexer": "ipython3",
      "version": "3.7.7"
    },
    "colab": {
      "provenance": [],
      "collapsed_sections": []
    }
  },
  "cells": [
    {
      "cell_type": "markdown",
      "metadata": {
        "id": "QEncmBStFCLo"
      },
      "source": [
        "# Logistic Regression Assignment\n",
        "\n",
        "## General Instructions for this assignment:\n",
        "1. Don't change the function signature\n",
        "2. Don't change the code already given to you; A lot of the work has been done for you, as we assume you are reasonably familiar with it.\n",
        "3. Write the code only where asked"
      ]
    },
    {
      "cell_type": "markdown",
      "metadata": {
        "id": "ODV-kLWnFCLp"
      },
      "source": [
        "## 1. Basic Design of the Model\n",
        "1. Output of the model: 0 or 1 (Binary Classification)\n",
        "2. Hypothesis to be tested: $Z = W \\cdot X + b$\n",
        "3. Activation Function: $\\frac{1}{1 + e^{-x}} $ (Signmoid Function)"
      ]
    },
    {
      "cell_type": "markdown",
      "metadata": {
        "id": "_oehNhBDFCLq"
      },
      "source": [
        "## 2. Import Packages\n",
        "\n",
        "1. numpy: obviously\n",
        "2. matplotlib: for making graphs\n",
        "3. seaborn: Making matplotlib graphs prettier"
      ]
    },
    {
      "cell_type": "code",
      "metadata": {
        "id": "OtEoCnoZFCLr"
      },
      "source": [
        "import numpy as np\n",
        "import matplotlib.pyplot as plt\n",
        "\n",
        "%matplotlib inline\n",
        "\n",
        "# Next Libraries are unimportant, they just make everyhting look better\n",
        "\n",
        "import matplotlib.style as style\n",
        "import seaborn as sns\n",
        "\n",
        "style.use('seaborn-poster') #sets the size of the charts\n",
        "style.use('ggplot')"
      ],
      "execution_count": 29,
      "outputs": []
    },
    {
      "cell_type": "markdown",
      "metadata": {
        "id": "BF5Hf3UhFCLv"
      },
      "source": [
        "## 3. Loading the dataset\n",
        "\n",
        "We have prepared and preprocessed the data. You can use the `np.load(path)` to obtain a dictionary of numpy arrays.\n",
        "\n",
        "> The loading has been done for you, just ensure that the path is correct and obtain the nump arrays from the dictionary"
      ]
    },
    {
      "cell_type": "code",
      "metadata": {
        "id": "5rPC9-xZFCLx"
      },
      "source": [
        "from google.colab import files\n",
        "dataset = np.load('dataset.npz')\n",
        "\n",
        "## Get the numpy arrays from the dictionary\n",
        "X_train = dataset.get('X_train.npy')\n",
        "Y_train = dataset.get('Y_train.npy')\n",
        "X_test  = dataset.get('X_test.npy')\n",
        "Y_test  = dataset.get('Y_test.npy')\n"
      ],
      "execution_count": 30,
      "outputs": []
    },
    {
      "cell_type": "code",
      "metadata": {
        "id": "cOS8h4viFCL0",
        "colab": {
          "base_uri": "https://localhost:8080/"
        },
        "outputId": "24192609-3caa-40ea-b3f0-85dd93003006"
      },
      "source": [
        "\n",
        "print(X_train.shape)\n",
        "print(Y_train.shape)\n",
        "print(X_test.shape)\n",
        "print(Y_test.shape)"
      ],
      "execution_count": 31,
      "outputs": [
        {
          "output_type": "stream",
          "name": "stdout",
          "text": [
            "(784, 8000)\n",
            "(1, 8000)\n",
            "(784, 2000)\n",
            "(1, 2000)\n"
          ]
        }
      ]
    },
    {
      "cell_type": "markdown",
      "metadata": {
        "id": "_Bjoq3CUFCL4"
      },
      "source": [
        "If you loaded the data correctly, then the code below should display\n",
        "```\n",
        "(784, 8000)\n",
        "(1, 8000)\n",
        "(784, 2000)\n",
        "(1, 2000)\n",
        "```"
      ]
    },
    {
      "cell_type": "markdown",
      "metadata": {
        "id": "QwRecXxsFCL4"
      },
      "source": [
        "## 4. Get a feel of the data\n",
        "\n",
        "### 5.1 View the Imagethat\n",
        "Use the imshow function of matplotlib.pyplot to actually see one of the 28x28 images from the training dataset and its respectie label."
      ]
    },
    {
      "cell_type": "code",
      "metadata": {
        "id": "ozMfJJW3FCL5",
        "colab": {
          "base_uri": "https://localhost:8080/",
          "height": 556
        },
        "outputId": "a6e69602-9353-4d96-c5ab-3d15235b6b8e"
      },
      "source": [
        "idx = np.random.randint(X_train.shape[1])\n",
        "\n",
        "plt.imshow(X_train[:, idx].reshape(28, 28))\n",
        "\n",
        "label = \"cat\" if Y_train[:, idx][0] else \"bat\"\n",
        "print(f\"Label: {label}\")"
      ],
      "execution_count": 32,
      "outputs": [
        {
          "output_type": "stream",
          "name": "stdout",
          "text": [
            "Label: bat\n"
          ]
        },
        {
          "output_type": "display_data",
          "data": {
            "text/plain": [
              "<Figure size 921.6x633.6 with 1 Axes>"
            ],
            "image/png": "[encoded data removed]"
          },
          "metadata": {}
        }
      ]
    },
    {
      "cell_type": "markdown",
      "metadata": {
        "id": "MCQ6-6NsFCL9"
      },
      "source": [
        "### View the raw data\n",
        "\n",
        "View the actual raw array associated with the idx selected previously"
      ]
    },
    {
      "cell_type": "code",
      "metadata": {
        "id": "mYlHFjL3FCL9",
        "colab": {
          "base_uri": "https://localhost:8080/"
        },
        "outputId": "aa7ac1ee-2715-4452-90b3-d86dab5594c7"
      },
      "source": [
        "X_train[:, idx]"
      ],
      "execution_count": 33,
      "outputs": [
        {
          "output_type": "execute_result",
          "data": {
            "text/plain": [
              "array([  0,   0,   0,   0,   0,   0,   0,   0,   0,   0,   0,   0,   0,\n",
              "         0,   0,   0,   0,   0,   0,   0,   0,   0,   0,   0,   0,   0,\n",
              "         0,   0,   0,   0,   0,   0,   0,   0,   0,   0,   0,   0,   0,\n",
              "         0,   0,   0,   0,   0,   0,   0,   0,   0,   0,   0,   0,   0,\n",
              "         0,   0,   0,   0,   0,   0,   0,   0,   0,   0,   0,   0,   0,\n",
              "         0,   0,   0,   0,   0,   0,   0,   0,   0,   0,   0,   0,   0,\n",
              "         0,   0,   0,   0,   0,   0,   0,   0,   0,   0,   0,   0,   0,\n",
              "         0,   0,   0,   0,   0,   0,   0,   0,   0,   0,   0,   0,   0,\n",
              "         0,   0,   0,   0,   0,   0,   0,   0,   0,   0,   0,   0,   0,\n",
              "         0,   0,   0,   0,   0,   0,   0,   0,   0,   0,   0,   0,   0,\n",
              "         0,   0,   0,   0,   0,   0,   0,   0,   0,   0,   0,   0,   0,\n",
              "         0,   0,   0,   0,   0,   0,   0,   0,   0,   0,   0,   0,   0,\n",
              "         0,   0,   0,   0,   0,   0,   0,   0,   0,   0,   0,   0,   0,\n",
              "         0,   0,   0,   0,   0,   0,   0,   0,   0,   0,   0,   0,   0,\n",
              "         0,   0,   0,   0,   0,   0,   0,   0,   0,   0,   0,   0,   0,\n",
              "         0,   0,   0,   0,   0,   1, 201, 117,   0,   0,   0,   0,   0,\n",
              "         0,   0,   0,   0,   0,   0,   0,   0,   0,  75,  64,   0,   0,\n",
              "         0,   0,   0,   0,   0,   0,   0,  67, 255, 182,   0,   0,   0,\n",
              "         0,   0,  97, 144,  30,  19,   0,   0,   0,   0,  48, 248, 184,\n",
              "         0,   0,   0,   0,   0,   0,   0,   0,  21, 127, 255, 240,  28,\n",
              "         0,   0,   0,  18, 239, 254, 242, 211,   0,   0,   0,  11, 215,\n",
              "       255, 207,  98,  85,   0,   0,   0,   0,   0,  15, 249, 255, 255,\n",
              "       255, 200,  17,   0,   0, 182, 251, 251, 255, 237,   0,   0,  12,\n",
              "       175, 251, 208, 255, 255, 243,   0,   0,   0,   0,  20, 130, 255,\n",
              "       237, 255, 179, 246, 209,  25,   0, 221, 175,  70, 177, 242,   0,\n",
              "        40, 213, 250,  99,  83, 171, 240, 186,   0,   0,   0,   0, 109,\n",
              "       255, 255, 151,  56,  16,  60, 239, 222,  82, 165, 252, 139, 250,\n",
              "       157,  84, 242, 229,  59,   0,   0,  91, 255, 189, 195,  70,   0,\n",
              "         0,  76, 255,  52,   0,   0,   0,   0,  47, 210, 255, 244, 248,\n",
              "       255, 254, 232, 254, 191,  23,   0,   0,   7, 229, 255, 255, 255,\n",
              "        71,   0,   0,  21, 251, 156,   1,   0,   0,   0,   0,   1, 138,\n",
              "       255, 100,  56, 113, 255, 209,   4,   0,   0,   0,   7, 165, 120,\n",
              "       214, 217,   1,   0,   0,   0, 125, 255, 172,  10,   0,   0,   0,\n",
              "         0, 216, 198,   1,   0,   0, 186, 193,   0,   0,   0,   0,   0,\n",
              "         0,  47, 255, 109,   0,   0,   0,   0,   0, 102, 250, 210,  97,\n",
              "        12,   0,   2, 251, 125,   0,   0,   0, 179, 201,   0,   0,   0,\n",
              "         0,   0,   7, 200, 232,  13,   0,   0,   0,   0,   0,   0,  65,\n",
              "       207, 255, 255, 232, 236, 255, 205,   0,   0,  22, 238, 152,   0,\n",
              "         0,   0,   1,  55, 199, 253,  76,   0,   0,   0,   0,   0,   0,\n",
              "         0,   0,   0,  49, 114, 144, 142, 220, 235,  13,   0, 201, 255,\n",
              "       221, 170, 154, 162, 229, 255, 236,  72,   0,   0,   0,   0,   0,\n",
              "         0,   0,   0,   0,   0,   0,   0,   0,   0,  47, 252, 225, 167,\n",
              "       255, 183, 180, 209, 221, 219, 163,  84,  12,   0,   0,   0,   0,\n",
              "         0,   0,   0,   0,   0,   0,   0,   0,   0,   0,   0,   0,  69,\n",
              "       174, 239, 149,   2,   0,   0,   0,   0,   0,   0,   0,   0,   0,\n",
              "         0,   0,   0,   0,   0,   0,   0,   0,   0,   0,   0,   0,   0,\n",
              "         0,   0,   0,   0,   0,   0,   0,   0,   0,   0,   0,   0,   0,\n",
              "         0,   0,   0,   0,   0,   0,   0,   0,   0,   0,   0,   0,   0,\n",
              "         0,   0,   0,   0,   0,   0,   0,   0,   0,   0,   0,   0,   0,\n",
              "         0,   0,   0,   0,   0,   0,   0,   0,   0,   0,   0,   0,   0,\n",
              "         0,   0,   0,   0,   0,   0,   0,   0,   0,   0,   0,   0,   0,\n",
              "         0,   0,   0,   0,   0,   0,   0,   0,   0,   0,   0,   0,   0,\n",
              "         0,   0,   0,   0,   0,   0,   0,   0,   0,   0,   0,   0,   0,\n",
              "         0,   0,   0,   0,   0,   0,   0,   0,   0,   0,   0,   0,   0,\n",
              "         0,   0,   0,   0,   0,   0,   0,   0,   0,   0,   0,   0,   0,\n",
              "         0,   0,   0,   0,   0,   0,   0,   0,   0,   0,   0,   0,   0,\n",
              "         0,   0,   0,   0,   0,   0,   0,   0,   0,   0,   0,   0,   0,\n",
              "         0,   0,   0,   0,   0,   0,   0,   0,   0,   0,   0,   0,   0,\n",
              "         0,   0,   0,   0,   0,   0,   0,   0,   0,   0,   0,   0,   0,\n",
              "         0,   0,   0,   0,   0,   0,   0,   0,   0,   0,   0,   0,   0,\n",
              "         0,   0,   0,   0], dtype=uint8)"
            ]
          },
          "metadata": {},
          "execution_count": 33
        }
      ]
    },
    {
      "cell_type": "markdown",
      "metadata": {
        "id": "qeg9vFx5FCMA"
      },
      "source": [
        "## 6. Normalizing the data\n",
        "\n",
        "Normalizing the data with the following equation:\n",
        "\n",
        "$$ X_{norm} = \\frac {X - X_{min}}{X_{max} - X_{min}} $$\n",
        "\n",
        "For this pixel data, $X_{max} = 255$ and $X_{min} = 0$\n",
        "\n",
        "> After running the next cell, go back and view the raw array again"
      ]
    },
    {
      "cell_type": "code",
      "metadata": {
        "id": "j9LgEtNsFCMB"
      },
      "source": [
        "## Normalize the training and testning data\n",
        "Xmin = 0\n",
        "Xmax = 255\n",
        "# Replace None with relevant code\n",
        "X_train = (X_train-Xmin)/(Xmax-Xmin)\n",
        "X_test =(X_test-Xmin)/(Xmax-Xmin)"
      ],
      "execution_count": 34,
      "outputs": []
    },
    {
      "cell_type": "markdown",
      "metadata": {
        "id": "FB-J1xHEFCMF"
      },
      "source": [
        "## 7. Helper functions for the Model:\n",
        "\n",
        "### Write the respective functions described by their docstrings"
      ]
    },
    {
      "cell_type": "code",
      "metadata": {
        "id": "Y1T3thCFFCMG"
      },
      "source": [
        "def sigmoid(z):\n",
        "    \"\"\"\n",
        "    Computes the element sigmoid of scalar or numpy array(element wise)\n",
        "    \n",
        "    Arguments:\n",
        "        z: Scalar or numpy array\n",
        "    \n",
        "    Returns:\n",
        "        s: Sigmoid of z (element wise in case of Numpy Array)\n",
        "    \"\"\"\n",
        "    ### Write Code here ###\n",
        "    \n",
        "    s = 1/(1+np.exp(-z))\n",
        "    ### End Code here ###\n",
        "    \n",
        "    return s"
      ],
      "execution_count": 37,
      "outputs": []
    },
    {
      "cell_type": "code",
      "metadata": {
        "id": "BrrJqSIuFCMJ"
      },
      "source": [
        "def initialize_parameters(n_x):\n",
        "    \"\"\"\n",
        "    Initialize w to a zero vector, and b to a 0 with datatype float \n",
        "    \n",
        "    Arguments:\n",
        "        n_x: Number of features in each sample of X\n",
        "    \n",
        "    Returns:\n",
        "        w: Initialized Numpy array of shape (1, n_x) (Weight)\n",
        "        b: Initialized Scalar (bias)\n",
        "    \"\"\"\n",
        "    ### Write Code here ###\n",
        "    w = np.zeros((1,n_x))\n",
        "    b = 0\n",
        "    ### End Code here ###\n",
        "    \n",
        "    return w, b"
      ],
      "execution_count": 38,
      "outputs": []
    },
    {
      "cell_type": "code",
      "metadata": {
        "id": "Th4xkEvrFCMM"
      },
      "source": [
        "def compute_cost(A, Y):\n",
        "    \"\"\"\n",
        "    Calculate the Cost using the Cross Entropy Loss\n",
        "    \n",
        "    Arguments:\n",
        "        A: Computer Probabilities, numpy array\n",
        "        Y: Known Labels, numpy array\n",
        "        \n",
        "    Returns:\n",
        "        cost: The computed Cost\n",
        "    \"\"\"\n",
        "    ### Write Code here ###\n",
        "    J = - (Y*np.log(A) + (1-Y)*np.log(1-A))\n",
        "    ### End Code here ###\n",
        "    \n",
        "    return np.squeeze(J)"
      ],
      "execution_count": 55,
      "outputs": []
    },
    {
      "cell_type": "markdown",
      "metadata": {
        "id": "B51HHAg_FCMQ"
      },
      "source": [
        "Here is a summary of the equations for Forward Propagation and Backward Propagation we have used so far:\n",
        "\n",
        "For m training examples $ X_{train} $ and $ Y_{train} $:\n",
        "\n",
        "### 7.1 Forward Propagation\n",
        "\n",
        "$$ Z^{(i)} = w \\cdot X_{train}^{(i)} + b $$\n",
        "\n",
        "$$ \\hat Y^{(i)} = A^{(i)} = \\sigma(Z^{(i)}) = sigmoid(Z^{(i)}) $$\n",
        "\n",
        "$$ \\mathcal{L}(\\hat Y^{(i)}, Y_{train}^{(i)}) = \\mathcal{L}(A^{(i)}, Y_{train}^{(i)}) = -[Y_{train}^{(i)} \\log(A^{(i)}) + (1 - Y_{train}^{(i)}) \\log(1 - A^{(i)})] $$\n",
        "\n",
        "$$ J = \\frac{1}{m} \\sum_1^m \\mathcal{L} (A^{(i)}, Y_{train}^{(i)}) $$\n",
        "\n",
        "\n",
        "### 7.2 Backward Propagation - Batch Gradient Descent\n",
        "\n",
        "$$ \\frac{\\partial J}{\\partial w} = \\frac{1}{m} (A - Y) \\cdot X^T $$\n",
        "\n",
        "$$ \\frac{\\partial J}{\\partial b} = \\frac{1}{m} \\sum_1^m (A - Y) $$\n",
        "\n",
        "\n",
        "> Note: Represent $ \\frac{\\partial J}{\\partial w} $ as dw, and $ \\frac{\\partial J}{\\partial b}$ as db\n"
      ]
    },
    {
      "cell_type": "code",
      "metadata": {
        "id": "xKf1Dc2lFCMQ"
      },
      "source": [
        "def propagate(w, b, X, Y, lamda):\n",
        "    \"\"\"\n",
        "    Perform forward and backward propagation for the Logistic Regression model\n",
        "    \n",
        "    Arguments:\n",
        "        w: The Weight Matrix of dimension (1, n_x)\n",
        "        b: Bias\n",
        "        X: Input Matrix, with shape (n_x, m)\n",
        "        Y: Label Matrix of shape (1, m)\n",
        "        lamda : regualarization parameter\n",
        "    Returns:\n",
        "        dw: Gradient of the weight matrix\n",
        "        db: Gradient of the bias\n",
        "        cost: Cost computed on Calculated Probability, and output Label\n",
        "    \"\"\"\n",
        "    \n",
        "    ### Write Code here ###\n",
        "    Z = w@X + b\n",
        "    A = sigmoid(Z)\n",
        "    m = Y.shape[1]\n",
        "    cost = (1/m)*np.sum(compute_cost(A,Y)) + (lamda/(2*m))*np.sum(np.square(w))\n",
        "\n",
        "    dw = ((1/m)*(A-Y)@X.T)+(lamda/(m))*w\n",
        "    db = (1/m)*np.sum(A-Y)\n",
        "    ### End Code here ###\n",
        "    \n",
        "    assert dw.shape == w.shape\n",
        "    return dw, db, cost\n",
        "    "
      ],
      "execution_count": 63,
      "outputs": []
    },
    {
      "cell_type": "markdown",
      "metadata": {
        "id": "DJwQjwOiFCMU"
      },
      "source": [
        "### 7.3 Optimization\n",
        "\n",
        "For a parameter $ \\theta $, the gradient descent update rule is given by:\n",
        "$$ \\theta := \\theta - \\alpha \\frac{\\partial J}{\\partial \\theta} $$\n",
        "\n",
        "where $\\alpha$ is the learning rate"
      ]
    },
    {
      "cell_type": "code",
      "metadata": {
        "id": "FYFW6bSkFCMV"
      },
      "source": [
        "def fit(w, b, X, Y, num_iterations, learning_rate, lamda, print_freq=100):\n",
        "    \"\"\"\n",
        "    Given the parameters of the model, fit the model corresponding to the given Input Matrix aand output labels, by performing batch gradient descent for given number of iterations.\n",
        "    \n",
        "    Arguments:\n",
        "        w: The Weight Matrix of dimension (1, n_x)\n",
        "        b: Bias\n",
        "        X: Input Matrix, with shape (n_x, m)\n",
        "        Y: Label Matrix of shape (1, m)\n",
        "        num_iterations: The number of iteratios of bgd to be performed\n",
        "        print_freq: Frequency of recording the cost\n",
        "    Returns:\n",
        "        w: Optimized weight matrix\n",
        "        b: optimized bias\n",
        "        costs: print the cost at frequency given by print_freq, no prints if freq is 0\n",
        "    \"\"\"\n",
        "    \n",
        "    costs = []\n",
        "    for i in range(num_iterations):\n",
        "        ## 1. Calculate Gradients and cost\n",
        "        ### Write Code here ###\n",
        "        dw,db,cost = propagate(w,b,X,Y,lamda)\n",
        "        \n",
        "        ### End Code here ###\n",
        "\n",
        "        costs.append(cost)\n",
        "            \n",
        "        if print_freq and i % print_freq == 0:\n",
        "            print(f\"Cost after iteration {i}: {cost}\")\n",
        "                \n",
        "        ## 2. Update parameters\n",
        "        ### Write Code here ###\n",
        "        w = w - learning_rate*(dw)\n",
        "        b = b - learning_rate*db\n",
        "        ### End Code here ###      \n",
        "\n",
        "            \n",
        "    return w, b, costs\n",
        "        "
      ],
      "execution_count": 60,
      "outputs": []
    },
    {
      "cell_type": "markdown",
      "metadata": {
        "id": "oBa_RviiFCMY"
      },
      "source": [
        "### 7.4 Prediction\n",
        "Use the following equation to determine the class that a given sample belongs to:\n",
        "\n",
        "$$\n",
        "\\begin{equation}\n",
        "    Y_{prediction}^{(i)} =\n",
        "    \\begin{cases} \n",
        "        1 \\text{, if } \\hat Y^{(i)} \\ge 0.5\\\\\n",
        "        0 \\text{, if } \\hat Y^{(i)} \\lt 0.5\\\\\n",
        "    \\end{cases}\n",
        "\\end{equation}\n",
        "$$\n",
        "\n",
        "> Hint: Use boolean Masking"
      ]
    },
    {
      "cell_type": "code",
      "metadata": {
        "id": "fcLm6a7cFCMY"
      },
      "source": [
        "def predict(w, b, X):\n",
        "    \"\"\"\n",
        "    Predict the class which the given feature vector belongs to given Weights and Bias of the model\n",
        "    \n",
        "    Arguments:\n",
        "        w: The Weight Matrix of dimension (1, n_x)\n",
        "        b: Bias\n",
        "        X: Input Matrix, with X.shape[0] = n_X\n",
        "    Returns:\n",
        "        Y_prediction: Predicted labels\n",
        "    \"\"\"\n",
        "    \n",
        "    ### Write Code here ###\n",
        "    Y_hat = sigmoid(w@X + b)\n",
        "    Y_prediction = np.where(Y_hat > 0.5 , 1, 0) \n",
        "    ### End Code here ###\n",
        "    \n",
        "    return Y_prediction"
      ],
      "execution_count": 43,
      "outputs": []
    },
    {
      "cell_type": "markdown",
      "metadata": {
        "id": "Dv7psRMoFCMb"
      },
      "source": [
        "## 8. Building the Model\n",
        "\n",
        "Now we have assembled all the individual pieces required to create the Logistic Regression model.\n",
        "Next function is creating the model and calculating its train and test accuracy. \n",
        "\n",
        "Acuracy is the ratio of correctly guessed samples, to the total number of samples that were checked. \n",
        "> Note: The correct accuracy is not being provided this time."
      ]
    },
    {
      "cell_type": "code",
      "metadata": {
        "id": "5RUTGfTyFCMc"
      },
      "source": [
        "def model(X_train, Y_train, X_test, Y_test, num_iterations, learning_rate, lamda, print_freq):\n",
        "    \"\"\"\n",
        "    Create a model and fit it to the train and test data. Use this model to compute the train and test accuracy after 2500 iterations\n",
        "    \n",
        "    Arguments:\n",
        "        X_train: Training Data X\n",
        "        Y_train: Training Data Y\n",
        "        X_test: Testing Data X\n",
        "        Y_test: Testing data Y\n",
        "        num_iterations: Number of iterations of bgd to perform\n",
        "        learning_rate: Learning Rate of the model\n",
        "        print_freq: Frequency of recording the cost\n",
        "    Returns:\n",
        "        -None-\n",
        "    \"\"\"\n",
        "    \n",
        "    ### Write Code here ###\n",
        "    w,b = initialize_parameters(X_train.shape[0])\n",
        "    w,b,costs = fit(w,b,X_train,Y_train,num_iterations,learning_rate,lamda,print_freq)\n",
        "    ### End Code here ###\n",
        "    \n",
        "    Y_prediction_train = predict(w, b, X_train)\n",
        "    Y_prediction_test = predict(w, b, X_test)\n",
        "    \n",
        "    costs = np.squeeze(costs)\n",
        "    \n",
        "    print(f\"train accuracy: {100 - np.mean(np.abs(Y_prediction_train - Y_train)) * 100} %\")\n",
        "    print(f\"test accuracy: {100 - np.mean(np.abs(Y_prediction_test - Y_test)) * 100} %\")\n",
        "    \n",
        "    plt.plot(costs)\n",
        "    \n",
        "    plt.ylabel('cost')\n",
        "    plt.xlabel('iterations (per hundreds)')\n",
        "    plt.title(f\"Learning rate = {learning_rate}\")\n",
        "    plt.show()\n",
        "       "
      ],
      "execution_count": 61,
      "outputs": []
    },
    {
      "cell_type": "code",
      "metadata": {
        "id": "vEmGRqtqFCMf",
        "colab": {
          "base_uri": "https://localhost:8080/",
          "height": 677
        },
        "outputId": "5eb57046-ce73-4ed3-f543-0d1456df6946"
      },
      "source": [
        "model(X_train, Y_train, X_test, Y_test, num_iterations=2000, learning_rate=0.12, lamda=40, print_freq=500)"
      ],
      "execution_count": 77,
      "outputs": [
        {
          "output_type": "stream",
          "name": "stdout",
          "text": [
            "Cost after iteration 0: 0.6931471805599454\n",
            "Cost after iteration 500: 0.3267693353425806\n",
            "Cost after iteration 1000: 0.32266393704796803\n",
            "Cost after iteration 1500: 0.32098386304095144\n",
            "train accuracy: 87.1625 %\n",
            "test accuracy: 88.1 %\n"
          ]
        },
        {
          "output_type": "display_data",
          "data": {
            "text/plain": [
              "<Figure size 921.6x633.6 with 1 Axes>"
            ],
            "image/png": "[encoded data removed]"
          },
          "metadata": {}
        }
      ]
    },
    {
      "cell_type": "markdown",
      "metadata": {
        "id": "K4U150gDFCMi"
      },
      "source": [
        "## 9. Experiments (Not Graded)\n",
        "\n",
        "Try using different Learning Rates, Change the number of iterations, try a different initialization of the parameters, try Stochastic Gradient Descent on the same Model. The possibilities are endless, and we encourage you to explore as much as you can. You can even try to use the Logistic Regression Model implementation from the ScikitLearn library, or explore other optimizing algorithms! If you try something new, do send it along with the assignment. We'd love to see what kinda work you are doing! Till then, adios!"
      ]
    },
    {
      "cell_type": "code",
      "source": [
        "model(X_train, Y_train, X_test, Y_test, num_iterations=2000, learning_rate=0.15, lamda=0, print_freq=500)"
      ],
      "metadata": {
        "colab": {
          "base_uri": "https://localhost:8080/",
          "height": 677
        },
        "id": "lXG6JQQdF7sy",
        "outputId": "3241f0d0-d3bc-4d73-8f08-f1a8ba0ab188"
      },
      "execution_count": 69,
      "outputs": [
        {
          "output_type": "stream",
          "name": "stdout",
          "text": [
            "Cost after iteration 0: 0.6931471805599454\n",
            "Cost after iteration 500: 0.3124008063454146\n",
            "Cost after iteration 1000: 0.3047512960145925\n",
            "Cost after iteration 1500: 0.30055901088244036\n",
            "train accuracy: 87.6375 %\n",
            "test accuracy: 87.55 %\n"
          ]
        },
        {
          "output_type": "display_data",
          "data": {
            "text/plain": [
              "<Figure size 921.6x633.6 with 1 Axes>"
            ],
            "image/png": "[encoded data removed]"
          },
          "metadata": {}
        }
      ]
    },
    {
      "cell_type": "code",
      "source": [],
      "metadata": {
        "id": "nhAuTS9tF9Bs"
      },
      "execution_count": null,
      "outputs": []
    }
  ]
}