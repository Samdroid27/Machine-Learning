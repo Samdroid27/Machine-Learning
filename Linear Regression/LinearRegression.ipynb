{
  "nbformat": 4,
  "nbformat_minor": 0,
  "metadata": {
    "colab": {
      "provenance": [],
      "collapsed_sections": [
        "npYBRa4-hZwc",
        "zwljJM1ti6WC",
        "-oIWnQISjaIQ",
        "t513dvlanvfi",
        "4-AYV8pCsxHN"
      ],
      "toc_visible": true
    },
    "kernelspec": {
      "name": "python3",
      "display_name": "Python 3"
    }
  },
  "cells": [
    {
      "cell_type": "markdown",
      "metadata": {
        "id": "aVQ8jBUubwsN"
      },
      "source": [
        "This is the linear regression exercise. First we will implement the algorithm from scratch. Then we will implement it using a widely used library in python- Scikit Learn aka Sklearn. Note that this assignment is relatively lengthy, but nevertheless, do not be discouraged!"
      ]
    },
    {
      "cell_type": "markdown",
      "metadata": {
        "id": "-uqWV54-cUQP"
      },
      "source": [
        "# Data preprocessing "
      ]
    },
    {
      "cell_type": "code",
      "metadata": {
        "id": "n_sfF0Bb1EEF"
      },
      "source": [
        "import sklearn\n",
        "import numpy as np\n",
        "import pandas as pd\n",
        "import matplotlib.pyplot as plt"
      ],
      "execution_count": 1,
      "outputs": []
    },
    {
      "cell_type": "markdown",
      "metadata": {
        "id": "OiQuOZNAcopv"
      },
      "source": [
        "We will be using the Boston housing dataset, a dataset containing details of houses in Boston. We will be using a subset of the actual dataset, which is easily available from sklearn. We will not be performing any exploratory data analysis as it is an extremely simple dataset with no null values and can easily be stored as numpy arrays instead of panda dataframes"
      ]
    },
    {
      "cell_type": "code",
      "metadata": {
        "id": "w0UTtfUv1buf",
        "colab": {
          "base_uri": "https://localhost:8080/"
        },
        "outputId": "1ffb2369-0efe-4d80-9f8a-2d707598c350"
      },
      "source": [
        "from sklearn.datasets import load_boston\n",
        "X , y = load_boston(return_X_y = True)\n",
        "y = y.reshape(506,1)\n",
        "print(X.shape, y.shape)"
      ],
      "execution_count": 2,
      "outputs": [
        {
          "output_type": "stream",
          "name": "stdout",
          "text": [
            "(506, 13) (506, 1)\n"
          ]
        },
        {
          "output_type": "stream",
          "name": "stderr",
          "text": [
            "/usr/local/lib/python3.7/dist-packages/sklearn/utils/deprecation.py:87: FutureWarning: Function load_boston is deprecated; `load_boston` is deprecated in 1.0 and will be removed in 1.2.\n",
            "\n",
            "    The Boston housing prices dataset has an ethical problem. You can refer to\n",
            "    the documentation of this function for further details.\n",
            "\n",
            "    The scikit-learn maintainers therefore strongly discourage the use of this\n",
            "    dataset unless the purpose of the code is to study and educate about\n",
            "    ethical issues in data science and machine learning.\n",
            "\n",
            "    In this special case, you can fetch the dataset from the original\n",
            "    source::\n",
            "\n",
            "        import pandas as pd\n",
            "        import numpy as np\n",
            "\n",
            "\n",
            "        data_url = \"http://lib.stat.cmu.edu/datasets/boston\"\n",
            "        raw_df = pd.read_csv(data_url, sep=\"\\s+\", skiprows=22, header=None)\n",
            "        data = np.hstack([raw_df.values[::2, :], raw_df.values[1::2, :2]])\n",
            "        target = raw_df.values[1::2, 2]\n",
            "\n",
            "    Alternative datasets include the California housing dataset (i.e.\n",
            "    :func:`~sklearn.datasets.fetch_california_housing`) and the Ames housing\n",
            "    dataset. You can load the datasets as follows::\n",
            "\n",
            "        from sklearn.datasets import fetch_california_housing\n",
            "        housing = fetch_california_housing()\n",
            "\n",
            "    for the California housing dataset and::\n",
            "\n",
            "        from sklearn.datasets import fetch_openml\n",
            "        housing = fetch_openml(name=\"house_prices\", as_frame=True)\n",
            "\n",
            "    for the Ames housing dataset.\n",
            "    \n",
            "  warnings.warn(msg, category=FutureWarning)\n"
          ]
        }
      ]
    },
    {
      "cell_type": "markdown",
      "metadata": {
        "id": "yHrPG4FRdEcB"
      },
      "source": [
        "Note that m = number of training examples = 506\n",
        "and n = number of features = 13. \n",
        "\n",
        "\n",
        "\n",
        "Next we will split our dataset into a training set and testing set, a must do process in ML. We train our data using only the training test, and test our predictions on the testing set. Here we have divided the data into training and test sets in a 2:1 ratio. For more information check out"
      ]
    },
    {
      "cell_type": "markdown",
      "metadata": {
        "id": "Rflg4RGkd2QD"
      },
      "source": [
        "https://scikit-learn.org/stable/modules/generated/sklearn.model_selection.train_test_split.html"
      ]
    },
    {
      "cell_type": "code",
      "metadata": {
        "id": "cakhw-6q14U6"
      },
      "source": [
        "from sklearn.model_selection import train_test_split\n",
        "X_train, X_test, y_train, y_test = train_test_split(X, y, test_size=0.33, random_state=42)"
      ],
      "execution_count": 55,
      "outputs": []
    },
    {
      "cell_type": "markdown",
      "metadata": {
        "id": "7oGTcCfzhSm9"
      },
      "source": [
        "# Data Standardization "
      ]
    },
    {
      "cell_type": "markdown",
      "metadata": {
        "id": "fVeUNcuyd9LZ"
      },
      "source": [
        "Next we will be performing an operation called data standardization. This basically converts the data roughly into a normal distribution so that gradient descent converges to its global minimum faster. Note that you might've seen this in prob stats :D"
      ]
    },
    {
      "cell_type": "code",
      "metadata": {
        "id": "t4ii0Cmmg_pj"
      },
      "source": [
        "\"\"\" Standardization of data. We subtract the mean from each feature and then \n",
        "      divide it by the standard deviation\n",
        "\"\"\"\n",
        "mu =   np.mean(X_train,axis=0) #ADD CODE HERE to calculate mean OF EACH FEATURE OR COLUMN of the training set. Hint: use numpy\n",
        "sigma = np.std(X_train,axis=0) #ADD CODE HERE to calculate standard deviation OF EACH FEATURE of the training set\n",
        "X_train =  (X_train-mu)/sigma   #Subtract mean from training data and then divide by standard deviation\n",
        "X_test =  (X_test-mu)/sigma    #Subtract mean from testing data and then divide by standard deviation"
      ],
      "execution_count": 56,
      "outputs": []
    },
    {
      "cell_type": "code",
      "source": [
        "X_train.shape"
      ],
      "metadata": {
        "colab": {
          "base_uri": "https://localhost:8080/"
        },
        "id": "grNBkhV-lfkq",
        "outputId": "d31cac12-6012-4b3b-e790-eaff8af646d0"
      },
      "execution_count": 57,
      "outputs": [
        {
          "output_type": "execute_result",
          "data": {
            "text/plain": [
              "(339, 13)"
            ]
          },
          "metadata": {},
          "execution_count": 57
        }
      ]
    },
    {
      "cell_type": "markdown",
      "metadata": {
        "id": "npYBRa4-hZwc"
      },
      "source": [
        "# Parameter Initialization"
      ]
    },
    {
      "cell_type": "markdown",
      "metadata": {
        "id": "gWM1gHrEhewr"
      },
      "source": [
        "Now we will intialize the X matrix and theta vector"
      ]
    },
    {
      "cell_type": "code",
      "metadata": {
        "id": "HlI0x_Zu2SjJ"
      },
      "source": [
        "m = y_train.shape[0]\n",
        "\n",
        "def initialize_params(X):\n",
        "  ones =  np.ones((m,1))#Numpy array of ones of size m x 1. This is the bias X0 = 1 which we add \n",
        "  X_new = np.hstack((ones,X))#Horizontally stack the bias vector to the beginning of the X matrix\n",
        "  theta = np.zeros((X_new.shape[1],1))#Numpy array of zeros. See theory to check dimensions\n",
        "  return X_new , theta"
      ],
      "execution_count": 58,
      "outputs": []
    },
    {
      "cell_type": "code",
      "metadata": {
        "id": "x5328gVhSsBZ"
      },
      "source": [
        "X_train, theta = initialize_params(X_train)"
      ],
      "execution_count": 59,
      "outputs": []
    },
    {
      "cell_type": "code",
      "source": [
        "X_train.shape\n"
      ],
      "metadata": {
        "colab": {
          "base_uri": "https://localhost:8080/"
        },
        "id": "mfKHz62KuLBX",
        "outputId": "7c73e863-c3ef-4bfe-8bea-1ab65de6dbd9"
      },
      "execution_count": 60,
      "outputs": [
        {
          "output_type": "execute_result",
          "data": {
            "text/plain": [
              "(339, 14)"
            ]
          },
          "metadata": {},
          "execution_count": 60
        }
      ]
    },
    {
      "cell_type": "markdown",
      "source": [
        "## Prediction using y=wx+b"
      ],
      "metadata": {
        "id": "AqYoyurvPm60"
      }
    },
    {
      "cell_type": "code",
      "source": [
        "m = y_train.shape[0]\n",
        "\n",
        "def params(X):\n",
        "  w = np.zeros((1,X_train.shape[1]))\n",
        "  b = np.zeros((1,m))\n",
        "  return w,b"
      ],
      "metadata": {
        "id": "1S3E7pAyzWLw"
      },
      "execution_count": 23,
      "outputs": []
    },
    {
      "cell_type": "code",
      "source": [
        "w,b = params(X_train)"
      ],
      "metadata": {
        "id": "X_4wVB_I0o3r"
      },
      "execution_count": 24,
      "outputs": []
    },
    {
      "cell_type": "code",
      "source": [
        "print(X_train.shape)\n",
        "print(w.shape)\n",
        "print(b.shape)"
      ],
      "metadata": {
        "colab": {
          "base_uri": "https://localhost:8080/"
        },
        "id": "atGpOCdy1P0S",
        "outputId": "02d8f922-1d0c-40a8-ea6c-51e26da216be"
      },
      "execution_count": 25,
      "outputs": [
        {
          "output_type": "stream",
          "name": "stdout",
          "text": [
            "(339, 13)\n",
            "(1, 13)\n",
            "(1, 339)\n"
          ]
        }
      ]
    },
    {
      "cell_type": "code",
      "source": [
        "y_train.shape"
      ],
      "metadata": {
        "colab": {
          "base_uri": "https://localhost:8080/"
        },
        "id": "ZBFYcE32IJ_m",
        "outputId": "a21b054a-5def-4823-9aed-6065db097f4a"
      },
      "execution_count": 26,
      "outputs": [
        {
          "output_type": "execute_result",
          "data": {
            "text/plain": [
              "(339, 1)"
            ]
          },
          "metadata": {},
          "execution_count": 26
        }
      ]
    },
    {
      "cell_type": "markdown",
      "metadata": {
        "id": "zwljJM1ti6WC"
      },
      "source": [
        "# Cost function"
      ]
    },
    {
      "cell_type": "markdown",
      "source": [
        "Cost function using theta"
      ],
      "metadata": {
        "id": "Tuqb7TyUP0Fo"
      }
    },
    {
      "cell_type": "code",
      "source": [
        "def compute_cost(theta, X, y):\n",
        "\n",
        "  J = 1/(2*m) * np.sum( ((X@theta-y))**2 )\n",
        "  return J"
      ],
      "metadata": {
        "id": "aBnM2KuxPzfP"
      },
      "execution_count": 61,
      "outputs": []
    },
    {
      "cell_type": "code",
      "source": [
        "compute_cost(theta, X_train, y_train)"
      ],
      "metadata": {
        "colab": {
          "base_uri": "https://localhost:8080/"
        },
        "id": "BEpD67ISP8d3",
        "outputId": "52b824d0-6864-4102-a536-084bdbf2478b"
      },
      "execution_count": 62,
      "outputs": [
        {
          "output_type": "execute_result",
          "data": {
            "text/plain": [
              "307.9009292035398"
            ]
          },
          "metadata": {},
          "execution_count": 62
        }
      ]
    },
    {
      "cell_type": "markdown",
      "source": [
        "Cost function using w,b"
      ],
      "metadata": {
        "id": "raesDoZxQBRZ"
      }
    },
    {
      "cell_type": "code",
      "metadata": {
        "id": "6iUPcP543GI4"
      },
      "source": [
        "def compute_cost(X, y,w,b):\n",
        "\n",
        "  J = np.sum((w@X.T+b-y.T)**2)\n",
        "  J = J/(2*m)\n",
        "  return J"
      ],
      "execution_count": 31,
      "outputs": []
    },
    {
      "cell_type": "code",
      "metadata": {
        "id": "aBi7kb5NXYZ9",
        "colab": {
          "base_uri": "https://localhost:8080/"
        },
        "outputId": "eee6bd4d-7330-4b15-f4fe-e99d58af4d9c"
      },
      "source": [
        "compute_cost(X_train, y_train,w,b)\n",
        "\n",
        "#If all code is correct you should see a cost of around 307.9"
      ],
      "execution_count": 32,
      "outputs": [
        {
          "output_type": "execute_result",
          "data": {
            "text/plain": [
              "307.9009292035398"
            ]
          },
          "metadata": {},
          "execution_count": 32
        }
      ]
    },
    {
      "cell_type": "markdown",
      "metadata": {
        "id": "-oIWnQISjaIQ"
      },
      "source": [
        "# Gradient Descent \n"
      ]
    },
    {
      "cell_type": "markdown",
      "metadata": {
        "id": "8J2TfFWtjylb"
      },
      "source": [
        "The gradient update rule for each parameter is :"
      ]
    },
    {
      "cell_type": "markdown",
      "metadata": {
        "id": "2KjK8X5mlE9j"
      },
      "source": [
        "![alt text](https://miro.medium.com/max/880/1*CkcmVCUKmbA-qUn7y8srNQ.png)"
      ]
    },
    {
      "cell_type": "markdown",
      "metadata": {
        "id": "dqrmLimplRjH"
      },
      "source": [
        "However , if we use a for loop, computation is really slow. Therefore we used a vectorized version of the gradient update rule which is :"
      ]
    },
    {
      "cell_type": "markdown",
      "metadata": {
        "id": "mGugql-6ldDJ"
      },
      "source": [
        "![alt text](https://drive.google.com/uc?id=17LwD2Tse6w4j4hKCZF33B0ao6yqdzeqD)"
      ]
    },
    {
      "cell_type": "markdown",
      "source": [
        "Gradient descent using theta"
      ],
      "metadata": {
        "id": "7fqF28z-QP23"
      }
    },
    {
      "cell_type": "code",
      "source": [
        "def gradient_descent(X, y, theta, learning_rate, n_iters):\n",
        "    J_history = np.zeros((n_iters,1))\n",
        "\n",
        "    for i in range(n_iters):\n",
        "      J_history[i] = compute_cost(theta, X, y)\n",
        "      theta = theta - (learning_rate/m) * X.T @ (X @ theta - y) \n",
        "        \n",
        "\n",
        "    return (J_history, theta)"
      ],
      "metadata": {
        "id": "HzGGf1JfQPTx"
      },
      "execution_count": 63,
      "outputs": []
    },
    {
      "cell_type": "code",
      "source": [
        "(J_history, theta) = gradient_descent(X_train, y_train, theta, 0.1, 50)"
      ],
      "metadata": {
        "id": "qeAsYW3cQUx4"
      },
      "execution_count": 64,
      "outputs": []
    },
    {
      "cell_type": "markdown",
      "source": [
        "Gradient descent using w,b"
      ],
      "metadata": {
        "id": "rG39X4IkQYvn"
      }
    },
    {
      "cell_type": "code",
      "metadata": {
        "id": "j4yxp2m8bPXH"
      },
      "source": [
        "def gradient_descent(X, y, w,b, learning_rate, n_iters):\n",
        "    J_history = np.zeros((n_iters,1))\n",
        "\n",
        "    for i in range(n_iters):\n",
        "      J_history[i] = compute_cost(X, y,w,b)\n",
        "      w_new = w - (learning_rate/m)*np.sum((w@X.T+b-y.T)@X)\n",
        "      b_new = b - (learning_rate/m)*np.sum((w@X.T+b-y.T))\n",
        "      w = w_new\n",
        "      b = b_new  \n",
        "\n",
        "    return J_history"
      ],
      "execution_count": 46,
      "outputs": []
    },
    {
      "cell_type": "markdown",
      "metadata": {
        "id": "t513dvlanvfi"
      },
      "source": [
        "# Fitting the model and predictions "
      ]
    },
    {
      "cell_type": "code",
      "metadata": {
        "id": "P8BZPSzt4ET7"
      },
      "source": [
        "(J_history) = gradient_descent(X_train,y_train,w,b,0.01,400)#Call the gradient descent function with the training data, with a learning rate of 0.1, for 50 iterations"
      ],
      "execution_count": 53,
      "outputs": []
    },
    {
      "cell_type": "code",
      "metadata": {
        "id": "lZz0JhOK5zQq",
        "colab": {
          "base_uri": "https://localhost:8080/"
        },
        "outputId": "aad8b51d-96c7-44a2-80b2-b73dec6233f9"
      },
      "source": [
        "print(J_history) #If all code is correct, the last value of the cost should be around 11.795"
      ],
      "execution_count": 65,
      "outputs": [
        {
          "output_type": "stream",
          "name": "stdout",
          "text": [
            "[[307.9009292 ]\n",
            " [240.75134671]\n",
            " [195.29896343]\n",
            " [159.97347194]\n",
            " [131.6648569 ]\n",
            " [108.83444813]\n",
            " [ 90.39390285]\n",
            " [ 75.49038842]\n",
            " [ 63.44065566]\n",
            " [ 53.69471527]\n",
            " [ 45.80928118]\n",
            " [ 39.426862  ]\n",
            " [ 34.25903464]\n",
            " [ 30.07301414]\n",
            " [ 26.680857  ]\n",
            " [ 23.93077521]\n",
            " [ 21.70014449]\n",
            " [ 19.88987325]\n",
            " [ 18.41986525]\n",
            " [ 17.22536211]\n",
            " [ 16.25399358]\n",
            " [ 15.46339798]\n",
            " [ 14.81930177]\n",
            " [ 14.29396917]\n",
            " [ 13.8649502 ]\n",
            " [ 13.51406944]\n",
            " [ 13.22660889]\n",
            " [ 12.99064766]\n",
            " [ 12.79652815]\n",
            " [ 12.6364245 ]\n",
            " [ 12.50399352]\n",
            " [ 12.39409246]\n",
            " [ 12.30255056]\n",
            " [ 12.22598433]\n",
            " [ 12.16164796]\n",
            " [ 12.10731229]\n",
            " [ 12.06116688]\n",
            " [ 12.02174058]\n",
            " [ 11.98783739]\n",
            " [ 11.95848436]\n",
            " [ 11.93288949]\n",
            " [ 11.91040756]\n",
            " [ 11.8905125 ]\n",
            " [ 11.87277493]\n",
            " [ 11.856844  ]\n",
            " [ 11.84243268]\n",
            " [ 11.82930579]\n",
            " [ 11.81727033]\n",
            " [ 11.8061676 ]\n",
            " [ 11.79586683]]\n"
          ]
        }
      ]
    },
    {
      "cell_type": "code",
      "metadata": {
        "id": "NEo1i_nR9ax3",
        "colab": {
          "base_uri": "https://localhost:8080/",
          "height": 296
        },
        "outputId": "a0725616-382f-4602-ca6b-e5c54e8d1714"
      },
      "source": [
        "plt.plot(range(len(J_history)), J_history)\n",
        "plt.xlabel('Iteration number')\n",
        "plt.ylabel('Cost')"
      ],
      "execution_count": 66,
      "outputs": [
        {
          "output_type": "execute_result",
          "data": {
            "text/plain": [
              "Text(0, 0.5, 'Cost')"
            ]
          },
          "metadata": {},
          "execution_count": 66
        },
        {
          "output_type": "display_data",
          "data": {
            "text/plain": [
              "<Figure size 432x288 with 1 Axes>"
            ],
            "image/png": "[encoded data removed]"
          },
          "metadata": {
            "needs_background": "light"
          }
        }
      ]
    },
    {
      "cell_type": "markdown",
      "metadata": {
        "id": "PDle8PVUqc4a"
      },
      "source": [
        "Observe that the cost decreases rapidly at first then slows down.After the 30th iteration, there isn't much change. So training for too many iterations after 30 iterations doesn't make sense."
      ]
    },
    {
      "cell_type": "code",
      "metadata": {
        "id": "lAUUCbdnjy-j",
        "colab": {
          "base_uri": "https://localhost:8080/"
        },
        "outputId": "f209580b-1a2f-4f5e-b26f-16025fdedf3f"
      },
      "source": [
        "from sklearn.metrics import mean_squared_error\n",
        "X_test = np.hstack((np.ones((X_test.shape[0],1)) , X_test))\n",
        "y_pred = X_test @ theta\n",
        "print(0.5 * mean_squared_error(y_pred, y_test))"
      ],
      "execution_count": 138,
      "outputs": [
        {
          "output_type": "stream",
          "name": "stdout",
          "text": [
            "11.05982521984101\n"
          ]
        }
      ]
    },
    {
      "cell_type": "markdown",
      "metadata": {
        "id": "VnZ-12KHsQKH"
      },
      "source": [
        "Great! Our loss on the test set is low as well. This means we have trained a pretty good model. Note that many times, the training loss will be very low while the test loss be relatively high. This is a problem known as ***overfitting*** that we will discuss later"
      ]
    },
    {
      "cell_type": "code",
      "metadata": {
        "id": "w1B6fpJnsl6m"
      },
      "source": [],
      "execution_count": 50,
      "outputs": []
    },
    {
      "cell_type": "markdown",
      "metadata": {
        "id": "4-AYV8pCsxHN"
      },
      "source": [
        "# Linear Regression Using Scikit Learn"
      ]
    },
    {
      "cell_type": "markdown",
      "metadata": {
        "id": "HnOj1mh4xubK"
      },
      "source": [
        "Phew! All the code above can be written in just a couple of lines using scikit learn! For this section, we leave it up to you to google the code and write it on your own"
      ]
    },
    {
      "cell_type": "code",
      "metadata": {
        "id": "u_PtOosrtKOX"
      },
      "source": [
        "from sklearn.linear_model import LinearRegression"
      ],
      "execution_count": 51,
      "outputs": []
    },
    {
      "cell_type": "code",
      "metadata": {
        "id": "dyw6ZuKWtMvM"
      },
      "source": [
        "linear_model = LinearRegression() #Create a linear regression object off the LinearRegression class\n",
        "\n",
        "#Now use the fit() method of the model on the training data below\n"
      ],
      "execution_count": 53,
      "outputs": []
    },
    {
      "cell_type": "code",
      "source": [
        "linear_model.fit(X_train,y_train)"
      ],
      "metadata": {
        "colab": {
          "base_uri": "https://localhost:8080/"
        },
        "id": "ftSC3N_Osgho",
        "outputId": "6f23b800-ff27-4c67-aa04-ac1ade0936ca"
      },
      "execution_count": 54,
      "outputs": [
        {
          "output_type": "execute_result",
          "data": {
            "text/plain": [
              "LinearRegression()"
            ]
          },
          "metadata": {},
          "execution_count": 54
        }
      ]
    },
    {
      "cell_type": "code",
      "metadata": {
        "id": "kZdsyPEEtabw"
      },
      "source": [
        "#Use the predict function to get the predictions of the test and training data\n",
        "\n",
        "yPred_train = linear_model.predict(X_train)\n",
        "yPred_test = linear_model.predict(X_test)"
      ],
      "execution_count": 55,
      "outputs": []
    },
    {
      "cell_type": "code",
      "metadata": {
        "id": "Wgrv7DGuv7Av",
        "colab": {
          "base_uri": "https://localhost:8080/"
        },
        "outputId": "d4972637-ce10-4c8a-d50f-693daf03cf87"
      },
      "source": [
        "print(\"Training loss = \" + str(0.5 * mean_squared_error(yPred_train, y_train)))\n",
        "print(\"Test loss = \" + str(0.5 * mean_squared_error(yPred_test, y_test)))\n",
        "\n",
        "#If code is right you should see training loss of around 11.49 and test loss of 11.19"
      ],
      "execution_count": 56,
      "outputs": [
        {
          "output_type": "stream",
          "name": "stdout",
          "text": [
            "Training loss = 11.492507920150404\n",
            "Test loss = 10.362011718669908\n"
          ]
        }
      ]
    },
    {
      "cell_type": "markdown",
      "metadata": {
        "id": "2fooZ-MpwGJL"
      },
      "source": [
        "Awesome! Our model from scratch performs almost as good as the one from scikit learn. Remember that we use scikit learn extensively for ML algorithms, however, we have implemented it from scratch for the sake of understanding, which is crucial"
      ]
    },
    {
      "cell_type": "markdown",
      "metadata": {
        "id": "drZsxlCBwtlc"
      },
      "source": [
        "Congratulations on completing your first machine learning algorithm!"
      ]
    },
    {
      "cell_type": "code",
      "metadata": {
        "id": "aUF6PNLpww5k"
      },
      "source": [],
      "execution_count": null,
      "outputs": []
    }
  ]
}