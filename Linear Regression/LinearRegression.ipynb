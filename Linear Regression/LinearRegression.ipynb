{
  "nbformat": 4,
  "nbformat_minor": 0,
  "metadata": {
    "colab": {
      "provenance": [],
      "collapsed_sections": [],
      "toc_visible": true
    },
    "kernelspec": {
      "name": "python3",
      "display_name": "Python 3"
    }
  },
  "cells": [
    {
      "cell_type": "markdown",
      "metadata": {
        "id": "aVQ8jBUubwsN"
      },
      "source": [
        "This is the linear regression exercise. First we will implement the algorithm from scratch. Then we will implement it using a widely used library in python- Scikit Learn aka Sklearn. Note that this assignment is relatively lengthy, but nevertheless, do not be discouraged!"
      ]
    },
    {
      "cell_type": "markdown",
      "metadata": {
        "id": "-uqWV54-cUQP"
      },
      "source": [
        "# Data preprocessing "
      ]
    },
    {
      "cell_type": "code",
      "metadata": {
        "id": "n_sfF0Bb1EEF"
      },
      "source": [
        "import sklearn\n",
        "import numpy as np\n",
        "import pandas as pd\n",
        "import matplotlib.pyplot as plt"
      ],
      "execution_count": 127,
      "outputs": []
    },
    {
      "cell_type": "markdown",
      "metadata": {
        "id": "OiQuOZNAcopv"
      },
      "source": [
        "We will be using the Boston housing dataset, a dataset containing details of houses in Boston. We will be using a subset of the actual dataset, which is easily available from sklearn. We will not be performing any exploratory data analysis as it is an extremely simple dataset with no null values and can easily be stored as numpy arrays instead of panda dataframes"
      ]
    },
    {
      "cell_type": "code",
      "metadata": {
        "id": "w0UTtfUv1buf",
        "colab": {
          "base_uri": "https://localhost:8080/"
        },
        "outputId": "782f6cb2-aacb-494a-ef92-d2c672d5a67c"
      },
      "source": [
        "from sklearn.datasets import load_boston\n",
        "X , y = load_boston(return_X_y = True)\n",
        "y = y.reshape(506,1)\n",
        "print(X.shape, y.shape)"
      ],
      "execution_count": 128,
      "outputs": [
        {
          "output_type": "stream",
          "name": "stdout",
          "text": [
            "(506, 13) (506, 1)\n"
          ]
        },
        {
          "output_type": "stream",
          "name": "stderr",
          "text": [
            "/usr/local/lib/python3.7/dist-packages/sklearn/utils/deprecation.py:87: FutureWarning: Function load_boston is deprecated; `load_boston` is deprecated in 1.0 and will be removed in 1.2.\n",
            "\n",
            "    The Boston housing prices dataset has an ethical problem. You can refer to\n",
            "    the documentation of this function for further details.\n",
            "\n",
            "    The scikit-learn maintainers therefore strongly discourage the use of this\n",
            "    dataset unless the purpose of the code is to study and educate about\n",
            "    ethical issues in data science and machine learning.\n",
            "\n",
            "    In this special case, you can fetch the dataset from the original\n",
            "    source::\n",
            "\n",
            "        import pandas as pd\n",
            "        import numpy as np\n",
            "\n",
            "\n",
            "        data_url = \"http://lib.stat.cmu.edu/datasets/boston\"\n",
            "        raw_df = pd.read_csv(data_url, sep=\"\\s+\", skiprows=22, header=None)\n",
            "        data = np.hstack([raw_df.values[::2, :], raw_df.values[1::2, :2]])\n",
            "        target = raw_df.values[1::2, 2]\n",
            "\n",
            "    Alternative datasets include the California housing dataset (i.e.\n",
            "    :func:`~sklearn.datasets.fetch_california_housing`) and the Ames housing\n",
            "    dataset. You can load the datasets as follows::\n",
            "\n",
            "        from sklearn.datasets import fetch_california_housing\n",
            "        housing = fetch_california_housing()\n",
            "\n",
            "    for the California housing dataset and::\n",
            "\n",
            "        from sklearn.datasets import fetch_openml\n",
            "        housing = fetch_openml(name=\"house_prices\", as_frame=True)\n",
            "\n",
            "    for the Ames housing dataset.\n",
            "    \n",
            "  warnings.warn(msg, category=FutureWarning)\n"
          ]
        }
      ]
    },
    {
      "cell_type": "markdown",
      "metadata": {
        "id": "yHrPG4FRdEcB"
      },
      "source": [
        "Note that m = number of training examples = 506\n",
        "and n = number of features = 13. \n",
        "\n",
        "\n",
        "\n",
        "Next we will split our dataset into a training set and testing set, a must do process in ML. We train our data using only the training test, and test our predictions on the testing set. Here we have divided the data into training and test sets in a 2:1 ratio. For more information check out"
      ]
    },
    {
      "cell_type": "markdown",
      "metadata": {
        "id": "Rflg4RGkd2QD"
      },
      "source": [
        "https://scikit-learn.org/stable/modules/generated/sklearn.model_selection.train_test_split.html"
      ]
    },
    {
      "cell_type": "code",
      "metadata": {
        "id": "cakhw-6q14U6"
      },
      "source": [
        "from sklearn.model_selection import train_test_split\n",
        "X_train, X_test, y_train, y_test = train_test_split(X, y, test_size=0.33, random_state=42)"
      ],
      "execution_count": 129,
      "outputs": []
    },
    {
      "cell_type": "markdown",
      "metadata": {
        "id": "7oGTcCfzhSm9"
      },
      "source": [
        "# Data Standardization "
      ]
    },
    {
      "cell_type": "markdown",
      "metadata": {
        "id": "fVeUNcuyd9LZ"
      },
      "source": [
        "Next we will be performing an operation called data standardization. This basically converts the data roughly into a normal distribution so that gradient descent converges to its global minimum faster. Note that you might've seen this in prob stats :D"
      ]
    },
    {
      "cell_type": "code",
      "metadata": {
        "id": "t4ii0Cmmg_pj"
      },
      "source": [
        "\"\"\" Standardization of data. We subtract the mean from each feature and then \n",
        "      divide it by the standard deviation\n",
        "\"\"\"\n",
        "mu =   np.mean(X_train,axis=0) #ADD CODE HERE to calculate mean OF EACH FEATURE OR COLUMN of the training set. Hint: use numpy\n",
        "sigma = np.std(X_train,axis=0) #ADD CODE HERE to calculate standard deviation OF EACH FEATURE of the training set\n",
        "X_train =  (X_train-mu)/sigma   #Subtract mean from training data and then divide by standard deviation\n",
        "X_test =  (X_test-mu)/sigma    #Subtract mean from testing data and then divide by standard deviation"
      ],
      "execution_count": 130,
      "outputs": []
    },
    {
      "cell_type": "code",
      "source": [
        "X_train.shape"
      ],
      "metadata": {
        "colab": {
          "base_uri": "https://localhost:8080/"
        },
        "id": "grNBkhV-lfkq",
        "outputId": "2571f4d9-0447-41ee-c1c6-2803e3f117dd"
      },
      "execution_count": 131,
      "outputs": [
        {
          "output_type": "execute_result",
          "data": {
            "text/plain": [
              "(339, 13)"
            ]
          },
          "metadata": {},
          "execution_count": 131
        }
      ]
    },
    {
      "cell_type": "markdown",
      "metadata": {
        "id": "npYBRa4-hZwc"
      },
      "source": [
        "# Parameter Initialization"
      ]
    },
    {
      "cell_type": "markdown",
      "metadata": {
        "id": "gWM1gHrEhewr"
      },
      "source": [
        "Now we will intialize the X matrix and theta vector"
      ]
    },
    {
      "cell_type": "code",
      "metadata": {
        "id": "HlI0x_Zu2SjJ"
      },
      "source": [
        "m = y_train.shape[0]\n",
        "\n",
        "def initialize_params(X):\n",
        "  ones =  np.ones((m,1))#Numpy array of ones of size m x 1. This is the bias X0 = 1 which we add \n",
        "  X_new = np.hstack((ones,X))#Horizontally stack the bias vector to the beginning of the X matrix\n",
        "  theta = np.zeros((X_new.shape[1],1))#Numpy array of zeros. See theory to check dimensions\n",
        "  return X_new , theta"
      ],
      "execution_count": null,
      "outputs": []
    },
    {
      "cell_type": "code",
      "metadata": {
        "id": "x5328gVhSsBZ"
      },
      "source": [
        "X_train, theta = initialize_params(X_train)"
      ],
      "execution_count": null,
      "outputs": []
    },
    {
      "cell_type": "code",
      "source": [
        "X_train.shape\n"
      ],
      "metadata": {
        "colab": {
          "base_uri": "https://localhost:8080/"
        },
        "id": "mfKHz62KuLBX",
        "outputId": "7c73e863-c3ef-4bfe-8bea-1ab65de6dbd9"
      },
      "execution_count": null,
      "outputs": [
        {
          "output_type": "execute_result",
          "data": {
            "text/plain": [
              "(339, 14)"
            ]
          },
          "metadata": {},
          "execution_count": 60
        }
      ]
    },
    {
      "cell_type": "markdown",
      "source": [
        "## Prediction using y=wx+b"
      ],
      "metadata": {
        "id": "AqYoyurvPm60"
      }
    },
    {
      "cell_type": "code",
      "source": [
        "m = y_train.shape[0]\n",
        "\n",
        "def params(X):\n",
        "  w = np.zeros((X_train.shape[1],1))\n",
        "  b = 0\n",
        "  return w,b"
      ],
      "metadata": {
        "id": "1S3E7pAyzWLw"
      },
      "execution_count": 140,
      "outputs": []
    },
    {
      "cell_type": "code",
      "source": [
        "w,b = params(X_train)"
      ],
      "metadata": {
        "id": "X_4wVB_I0o3r"
      },
      "execution_count": 141,
      "outputs": []
    },
    {
      "cell_type": "code",
      "source": [
        "print(X_train.shape)\n",
        "print(w.shape)"
      ],
      "metadata": {
        "colab": {
          "base_uri": "https://localhost:8080/"
        },
        "id": "atGpOCdy1P0S",
        "outputId": "43d66a8e-ca0a-4186-f1b0-a1340303fbdc"
      },
      "execution_count": 142,
      "outputs": [
        {
          "output_type": "stream",
          "name": "stdout",
          "text": [
            "(339, 13)\n",
            "(13, 1)\n"
          ]
        }
      ]
    },
    {
      "cell_type": "code",
      "source": [
        "y_train.shape"
      ],
      "metadata": {
        "colab": {
          "base_uri": "https://localhost:8080/"
        },
        "id": "ZBFYcE32IJ_m",
        "outputId": "6d1560c1-be55-47bf-f75c-3eab351dacd4"
      },
      "execution_count": 143,
      "outputs": [
        {
          "output_type": "execute_result",
          "data": {
            "text/plain": [
              "(339, 1)"
            ]
          },
          "metadata": {},
          "execution_count": 143
        }
      ]
    },
    {
      "cell_type": "markdown",
      "metadata": {
        "id": "zwljJM1ti6WC"
      },
      "source": [
        "# Cost function"
      ]
    },
    {
      "cell_type": "markdown",
      "source": [
        "Cost function using theta"
      ],
      "metadata": {
        "id": "Tuqb7TyUP0Fo"
      }
    },
    {
      "cell_type": "code",
      "source": [
        "def compute_cost(theta, X, y):\n",
        "\n",
        "  J = 1/(2*m) * np.sum( ((X@theta-y))**2 )\n",
        "  return J"
      ],
      "metadata": {
        "id": "aBnM2KuxPzfP"
      },
      "execution_count": null,
      "outputs": []
    },
    {
      "cell_type": "code",
      "source": [
        "#If all code is correct you should see a cost of around 307.9\n",
        "compute_cost(theta, X_train, y_train)"
      ],
      "metadata": {
        "colab": {
          "base_uri": "https://localhost:8080/"
        },
        "id": "BEpD67ISP8d3",
        "outputId": "52b824d0-6864-4102-a536-084bdbf2478b"
      },
      "execution_count": null,
      "outputs": [
        {
          "output_type": "execute_result",
          "data": {
            "text/plain": [
              "307.9009292035398"
            ]
          },
          "metadata": {},
          "execution_count": 62
        }
      ]
    },
    {
      "cell_type": "markdown",
      "source": [
        "Cost function using w,b"
      ],
      "metadata": {
        "id": "raesDoZxQBRZ"
      }
    },
    {
      "cell_type": "code",
      "metadata": {
        "id": "6iUPcP543GI4"
      },
      "source": [
        "\n",
        "def compute_cost(X, y,w,b):\n",
        "  m,n = X.shape\n",
        "  err = (np.subtract(((X@w) + b), y))\n",
        "  J = np.sum(err**2)\n",
        "  J /= 2*m\n",
        "  return J"
      ],
      "execution_count": 169,
      "outputs": []
    },
    {
      "cell_type": "code",
      "metadata": {
        "id": "aBi7kb5NXYZ9",
        "colab": {
          "base_uri": "https://localhost:8080/"
        },
        "outputId": "075e9e8d-068f-46b3-c96f-c0592ef9f367"
      },
      "source": [
        "compute_cost(X_train, y_train,w,b)\n",
        "\n"
      ],
      "execution_count": 170,
      "outputs": [
        {
          "output_type": "execute_result",
          "data": {
            "text/plain": [
              "307.9009292035398"
            ]
          },
          "metadata": {},
          "execution_count": 170
        }
      ]
    },
    {
      "cell_type": "markdown",
      "metadata": {
        "id": "-oIWnQISjaIQ"
      },
      "source": [
        "# Gradient Descent \n"
      ]
    },
    {
      "cell_type": "markdown",
      "metadata": {
        "id": "8J2TfFWtjylb"
      },
      "source": [
        "The gradient update rule for each parameter is :"
      ]
    },
    {
      "cell_type": "markdown",
      "metadata": {
        "id": "2KjK8X5mlE9j"
      },
      "source": [
        "![alt text](https://miro.medium.com/max/880/1*CkcmVCUKmbA-qUn7y8srNQ.png)"
      ]
    },
    {
      "cell_type": "markdown",
      "metadata": {
        "id": "dqrmLimplRjH"
      },
      "source": [
        "However , if we use a for loop, computation is really slow. Therefore we used a vectorized version of the gradient update rule which is :"
      ]
    },
    {
      "cell_type": "markdown",
      "metadata": {
        "id": "mGugql-6ldDJ"
      },
      "source": [
        "![alt text](https://drive.google.com/uc?id=17LwD2Tse6w4j4hKCZF33B0ao6yqdzeqD)"
      ]
    },
    {
      "cell_type": "markdown",
      "source": [
        "Gradient descent using theta"
      ],
      "metadata": {
        "id": "7fqF28z-QP23"
      }
    },
    {
      "cell_type": "code",
      "source": [
        "def gradient_descent(X, y, theta, learning_rate, n_iters):\n",
        "    J_history = np.zeros((n_iters,1))\n",
        "\n",
        "    for i in range(n_iters):\n",
        "      J_history[i] = compute_cost(theta, X, y)\n",
        "      theta = theta - (learning_rate/m) * X.T @ (X @ theta - y) \n",
        "        \n",
        "\n",
        "    return (J_history, theta)"
      ],
      "metadata": {
        "id": "HzGGf1JfQPTx"
      },
      "execution_count": null,
      "outputs": []
    },
    {
      "cell_type": "code",
      "source": [
        "(J_history, theta) = gradient_descent(X_train, y_train, theta, 0.1, 50)"
      ],
      "metadata": {
        "id": "qeAsYW3cQUx4"
      },
      "execution_count": null,
      "outputs": []
    },
    {
      "cell_type": "markdown",
      "source": [
        "Gradient descent using w,b"
      ],
      "metadata": {
        "id": "rG39X4IkQYvn"
      }
    },
    {
      "cell_type": "code",
      "metadata": {
        "id": "j4yxp2m8bPXH"
      },
      "source": [
        "def compute_gradient(X, y, w,b):\n",
        "    m,n = X.shape\n",
        "    dj_dw = np.zeros((n,1))\n",
        "    dj_db = 0.\n",
        "    # err is (m,1)\n",
        "    # X is (m,n)\n",
        "    #X.T@err\n",
        "    err = np.subtract(((X@w)+b),y)\n",
        "    dj_dw = dj_dw + X.T@err\n",
        "    dj_db = dj_db + np.sum(err)\n",
        "    dj_dw /= m\n",
        "    dj_db /= m\n",
        "\n",
        "    return dj_db,dj_dw\n"
      ],
      "execution_count": 230,
      "outputs": []
    },
    {
      "cell_type": "code",
      "source": [
        "err = (np.subtract(((X@w) + b), y))\n",
        "err.shape\n"
      ],
      "metadata": {
        "colab": {
          "base_uri": "https://localhost:8080/"
        },
        "id": "ZfutaDzsV-Ah",
        "outputId": "25cca87b-57ff-41b9-ddbf-c4977625511f"
      },
      "execution_count": 231,
      "outputs": [
        {
          "output_type": "execute_result",
          "data": {
            "text/plain": [
              "(506, 1)"
            ]
          },
          "metadata": {},
          "execution_count": 231
        }
      ]
    },
    {
      "cell_type": "code",
      "source": [
        "import copy"
      ],
      "metadata": {
        "id": "MvxWQnEK6G7R"
      },
      "execution_count": 232,
      "outputs": []
    },
    {
      "cell_type": "code",
      "source": [
        "def gradient_descent(X,y,w_in,b_in,learning_rate,num_iter):\n",
        "  m = len(X)\n",
        "  J_history = []\n",
        "  w = copy.deepcopy(w_in)\n",
        "  b = b_in\n",
        "  J_history.append(compute_cost(X,y,w,b))\n",
        "  for i in range(num_iter):\n",
        "    dj_db,dj_dw = compute_gradient(X,y,w,b)\n",
        "    w = w - learning_rate * dj_dw\n",
        "    b = b - learning_rate * dj_db\n",
        "\n",
        "    J_history.append(compute_cost(X,y,w,b))\n",
        "  return J_history"
      ],
      "metadata": {
        "id": "1SPgZkt04ReA"
      },
      "execution_count": 233,
      "outputs": []
    },
    {
      "cell_type": "markdown",
      "metadata": {
        "id": "t513dvlanvfi"
      },
      "source": [
        "# Fitting the model and predictions "
      ]
    },
    {
      "cell_type": "code",
      "metadata": {
        "id": "P8BZPSzt4ET7"
      },
      "source": [
        "(J_history) = gradient_descent(X_train,y_train,w,b,0.1,50)#Call the gradient descent function with the training data, with a learning rate of 0.1, for 50 iterations"
      ],
      "execution_count": 237,
      "outputs": []
    },
    {
      "cell_type": "code",
      "metadata": {
        "id": "lZz0JhOK5zQq",
        "colab": {
          "base_uri": "https://localhost:8080/"
        },
        "outputId": "ea9d5c1c-decb-4f6a-8248-e1e0cb8b7ff5"
      },
      "source": [
        "print(J_history) #If all code is correct, the last value of the cost should be around 11.795"
      ],
      "execution_count": 238,
      "outputs": [
        {
          "output_type": "stream",
          "name": "stdout",
          "text": [
            "[307.9009292035398, 240.75134671090566, 195.29896343304964, 159.97347194270728, 131.66485690096124, 108.83444813229795, 90.39390285129825, 75.4903884169313, 63.44065566417299, 53.694715271825615, 45.80928118005454, 39.42686200172462, 34.259034635624204, 30.073014139467652, 26.68085699598573, 23.9307752077979, 21.700144494174896, 19.889873247733927, 18.41986525304401, 17.225362106379677, 16.253993576420633, 15.463397983907706, 14.819301773432622, 14.293969165811745, 13.864950197526186, 13.514069435627057, 13.226608888153862, 12.990647658423814, 12.796528153178933, 12.636424498525235, 12.503993523086244, 12.394092458427767, 12.3025505618179, 12.225984329536262, 12.16164795565535, 12.107312294204423, 12.061166876425004, 12.021740579388396, 11.987837385816924, 11.958484356381296, 11.932889486333018, 11.910407563295884, 11.890512502720776, 11.872774928305398, 11.856843999829811, 11.84243268104054, 11.829305794054465, 11.81727033121208, 11.806167596013657, 11.795866826265737, 11.786260018522505]\n"
          ]
        }
      ]
    },
    {
      "cell_type": "code",
      "metadata": {
        "id": "NEo1i_nR9ax3",
        "colab": {
          "base_uri": "https://localhost:8080/",
          "height": 296
        },
        "outputId": "5095eda8-7e2f-48f8-c7e6-95e4f9f80cd3"
      },
      "source": [
        "plt.plot(range(len(J_history)), J_history)\n",
        "plt.xlabel('Iteration number')\n",
        "plt.ylabel('Cost')"
      ],
      "execution_count": 239,
      "outputs": [
        {
          "output_type": "execute_result",
          "data": {
            "text/plain": [
              "Text(0, 0.5, 'Cost')"
            ]
          },
          "metadata": {},
          "execution_count": 239
        },
        {
          "output_type": "display_data",
          "data": {
            "text/plain": [
              "<Figure size 432x288 with 1 Axes>"
            ],
            "image/png": "[encoded data removed]"
          },
          "metadata": {
            "needs_background": "light"
          }
        }
      ]
    },
    {
      "cell_type": "markdown",
      "metadata": {
        "id": "PDle8PVUqc4a"
      },
      "source": [
        "Observe that the cost decreases rapidly at first then slows down.After the 30th iteration, there isn't much change. So training for too many iterations after 30 iterations doesn't make sense."
      ]
    },
    {
      "cell_type": "code",
      "metadata": {
        "id": "lAUUCbdnjy-j",
        "colab": {
          "base_uri": "https://localhost:8080/"
        },
        "outputId": "f209580b-1a2f-4f5e-b26f-16025fdedf3f"
      },
      "source": [
        "from sklearn.metrics import mean_squared_error\n",
        "X_test = np.hstack((np.ones((X_test.shape[0],1)) , X_test))\n",
        "y_pred = X_test @ theta\n",
        "print(0.5 * mean_squared_error(y_pred, y_test))"
      ],
      "execution_count": null,
      "outputs": [
        {
          "output_type": "stream",
          "name": "stdout",
          "text": [
            "11.05982521984101\n"
          ]
        }
      ]
    },
    {
      "cell_type": "markdown",
      "metadata": {
        "id": "VnZ-12KHsQKH"
      },
      "source": [
        "Great! Our loss on the test set is low as well. This means we have trained a pretty good model. Note that many times, the training loss will be very low while the test loss be relatively high. This is a problem known as ***overfitting*** that we will discuss later"
      ]
    },
    {
      "cell_type": "code",
      "metadata": {
        "id": "w1B6fpJnsl6m"
      },
      "source": [],
      "execution_count": null,
      "outputs": []
    },
    {
      "cell_type": "markdown",
      "metadata": {
        "id": "4-AYV8pCsxHN"
      },
      "source": [
        "# Linear Regression Using Scikit Learn"
      ]
    },
    {
      "cell_type": "markdown",
      "metadata": {
        "id": "HnOj1mh4xubK"
      },
      "source": [
        "Phew! All the code above can be written in just a couple of lines using scikit learn! For this section, we leave it up to you to google the code and write it on your own"
      ]
    },
    {
      "cell_type": "code",
      "metadata": {
        "id": "u_PtOosrtKOX"
      },
      "source": [
        "from sklearn.linear_model import LinearRegression"
      ],
      "execution_count": null,
      "outputs": []
    },
    {
      "cell_type": "code",
      "metadata": {
        "id": "dyw6ZuKWtMvM"
      },
      "source": [
        "linear_model = LinearRegression() #Create a linear regression object off the LinearRegression class\n",
        "\n",
        "#Now use the fit() method of the model on the training data below\n"
      ],
      "execution_count": null,
      "outputs": []
    },
    {
      "cell_type": "code",
      "source": [
        "linear_model.fit(X_train,y_train)"
      ],
      "metadata": {
        "colab": {
          "base_uri": "https://localhost:8080/"
        },
        "id": "ftSC3N_Osgho",
        "outputId": "6f23b800-ff27-4c67-aa04-ac1ade0936ca"
      },
      "execution_count": null,
      "outputs": [
        {
          "output_type": "execute_result",
          "data": {
            "text/plain": [
              "LinearRegression()"
            ]
          },
          "metadata": {},
          "execution_count": 54
        }
      ]
    },
    {
      "cell_type": "code",
      "metadata": {
        "id": "kZdsyPEEtabw"
      },
      "source": [
        "#Use the predict function to get the predictions of the test and training data\n",
        "\n",
        "yPred_train = linear_model.predict(X_train)\n",
        "yPred_test = linear_model.predict(X_test)"
      ],
      "execution_count": null,
      "outputs": []
    },
    {
      "cell_type": "code",
      "metadata": {
        "id": "Wgrv7DGuv7Av",
        "colab": {
          "base_uri": "https://localhost:8080/"
        },
        "outputId": "d4972637-ce10-4c8a-d50f-693daf03cf87"
      },
      "source": [
        "print(\"Training loss = \" + str(0.5 * mean_squared_error(yPred_train, y_train)))\n",
        "print(\"Test loss = \" + str(0.5 * mean_squared_error(yPred_test, y_test)))\n",
        "\n",
        "#If code is right you should see training loss of around 11.49 and test loss of 11.19"
      ],
      "execution_count": null,
      "outputs": [
        {
          "output_type": "stream",
          "name": "stdout",
          "text": [
            "Training loss = 11.492507920150404\n",
            "Test loss = 10.362011718669908\n"
          ]
        }
      ]
    },
    {
      "cell_type": "markdown",
      "metadata": {
        "id": "2fooZ-MpwGJL"
      },
      "source": [
        "Awesome! Our model from scratch performs almost as good as the one from scikit learn. Remember that we use scikit learn extensively for ML algorithms, however, we have implemented it from scratch for the sake of understanding, which is crucial"
      ]
    },
    {
      "cell_type": "markdown",
      "metadata": {
        "id": "drZsxlCBwtlc"
      },
      "source": [
        "Congratulations on completing your first machine learning algorithm!"
      ]
    },
    {
      "cell_type": "code",
      "metadata": {
        "id": "aUF6PNLpww5k"
      },
      "source": [],
      "execution_count": null,
      "outputs": []
    }
  ]
}